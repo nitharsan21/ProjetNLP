{
 "cells": [
  {
   "cell_type": "code",
   "execution_count": 21,
   "outputs": [
    {
     "name": "stdout",
     "output_type": "stream",
     "text": [
      "Collecting pyyaml\n",
      "  Using cached PyYAML-6.0-cp310-cp310-win_amd64.whl (151 kB)\n",
      "Installing collected packages: pyyaml\n",
      "Successfully installed pyyaml-6.0\n"
     ]
    }
   ],
   "source": [
    "!pip install pyyaml"
   ],
   "metadata": {
    "collapsed": false,
    "pycharm": {
     "name": "#%%\n"
    }
   }
  },
  {
   "cell_type": "code",
   "execution_count": 14,
   "outputs": [
    {
     "name": "stdout",
     "output_type": "stream",
     "text": [
      "Collecting gpt_2_simple\n",
      "  Downloading gpt_2_simple-0.8.1.tar.gz (26 kB)\n",
      "  Preparing metadata (setup.py): started\n",
      "  Preparing metadata (setup.py): finished with status 'done'\n",
      "Requirement already satisfied: tensorflow>=2.5.1 in c:\\users\\nitha\\anaconda3\\envs\\projetnlp\\lib\\site-packages (from gpt_2_simple) (2.10.0)\n",
      "Requirement already satisfied: regex in c:\\users\\nitha\\anaconda3\\envs\\projetnlp\\lib\\site-packages (from gpt_2_simple) (2022.7.9)\n",
      "Requirement already satisfied: requests in c:\\users\\nitha\\anaconda3\\envs\\projetnlp\\lib\\site-packages (from gpt_2_simple) (2.28.1)\n",
      "Collecting tqdm\n",
      "  Downloading tqdm-4.64.1-py2.py3-none-any.whl (78 kB)\n",
      "     -------------------------------------- 78.5/78.5 kB 545.8 kB/s eta 0:00:00\n",
      "Requirement already satisfied: numpy in c:\\users\\nitha\\anaconda3\\envs\\projetnlp\\lib\\site-packages (from gpt_2_simple) (1.23.5)\n",
      "Collecting toposort\n",
      "  Downloading toposort-1.7-py2.py3-none-any.whl (9.0 kB)\n",
      "Requirement already satisfied: packaging in c:\\users\\nitha\\anaconda3\\envs\\projetnlp\\lib\\site-packages (from tensorflow>=2.5.1->gpt_2_simple) (22.0)\n",
      "Requirement already satisfied: absl-py>=1.0.0 in c:\\users\\nitha\\anaconda3\\envs\\projetnlp\\lib\\site-packages (from tensorflow>=2.5.1->gpt_2_simple) (1.3.0)\n",
      "Requirement already satisfied: tensorflow-estimator<2.11,>=2.10.0 in c:\\users\\nitha\\anaconda3\\envs\\projetnlp\\lib\\site-packages (from tensorflow>=2.5.1->gpt_2_simple) (2.10.0)\n",
      "Requirement already satisfied: setuptools in c:\\users\\nitha\\anaconda3\\envs\\projetnlp\\lib\\site-packages (from tensorflow>=2.5.1->gpt_2_simple) (65.5.0)\n",
      "Requirement already satisfied: keras<2.11,>=2.10.0 in c:\\users\\nitha\\anaconda3\\envs\\projetnlp\\lib\\site-packages (from tensorflow>=2.5.1->gpt_2_simple) (2.10.0)\n",
      "Collecting libclang>=13.0.0\n",
      "  Downloading libclang-14.0.6-py2.py3-none-win_amd64.whl (14.2 MB)\n",
      "     -------------------------------------- 14.2/14.2 MB 409.7 kB/s eta 0:00:00\n",
      "Requirement already satisfied: grpcio<2.0,>=1.24.3 in c:\\users\\nitha\\anaconda3\\envs\\projetnlp\\lib\\site-packages (from tensorflow>=2.5.1->gpt_2_simple) (1.42.0)\n",
      "Requirement already satisfied: opt-einsum>=2.3.2 in c:\\users\\nitha\\anaconda3\\envs\\projetnlp\\lib\\site-packages (from tensorflow>=2.5.1->gpt_2_simple) (3.3.0)\n",
      "Requirement already satisfied: wrapt>=1.11.0 in c:\\users\\nitha\\anaconda3\\envs\\projetnlp\\lib\\site-packages (from tensorflow>=2.5.1->gpt_2_simple) (1.14.1)\n",
      "Requirement already satisfied: typing-extensions>=3.6.6 in c:\\users\\nitha\\anaconda3\\envs\\projetnlp\\lib\\site-packages (from tensorflow>=2.5.1->gpt_2_simple) (4.4.0)\n",
      "Requirement already satisfied: google-pasta>=0.1.1 in c:\\users\\nitha\\anaconda3\\envs\\projetnlp\\lib\\site-packages (from tensorflow>=2.5.1->gpt_2_simple) (0.2.0)\n",
      "Collecting tensorflow-io-gcs-filesystem>=0.23.1\n",
      "  Downloading tensorflow_io_gcs_filesystem-0.29.0-cp310-cp310-win_amd64.whl (1.5 MB)\n",
      "     ---------------------------------------- 1.5/1.5 MB 341.0 kB/s eta 0:00:00\n",
      "Requirement already satisfied: keras-preprocessing>=1.1.1 in c:\\users\\nitha\\anaconda3\\envs\\projetnlp\\lib\\site-packages (from tensorflow>=2.5.1->gpt_2_simple) (1.1.2)\n",
      "Requirement already satisfied: h5py>=2.9.0 in c:\\users\\nitha\\anaconda3\\envs\\projetnlp\\lib\\site-packages (from tensorflow>=2.5.1->gpt_2_simple) (3.7.0)\n",
      "Requirement already satisfied: gast<=0.4.0,>=0.2.1 in c:\\users\\nitha\\anaconda3\\envs\\projetnlp\\lib\\site-packages (from tensorflow>=2.5.1->gpt_2_simple) (0.4.0)\n",
      "Requirement already satisfied: flatbuffers>=2.0 in c:\\users\\nitha\\anaconda3\\envs\\projetnlp\\lib\\site-packages (from tensorflow>=2.5.1->gpt_2_simple) (2.0)\n",
      "Requirement already satisfied: six>=1.12.0 in c:\\users\\nitha\\anaconda3\\envs\\projetnlp\\lib\\site-packages (from tensorflow>=2.5.1->gpt_2_simple) (1.16.0)\n",
      "Requirement already satisfied: termcolor>=1.1.0 in c:\\users\\nitha\\anaconda3\\envs\\projetnlp\\lib\\site-packages (from tensorflow>=2.5.1->gpt_2_simple) (2.1.0)\n",
      "Requirement already satisfied: tensorboard<2.11,>=2.10 in c:\\users\\nitha\\anaconda3\\envs\\projetnlp\\lib\\site-packages (from tensorflow>=2.5.1->gpt_2_simple) (2.10.0)\n",
      "Requirement already satisfied: astunparse>=1.6.0 in c:\\users\\nitha\\anaconda3\\envs\\projetnlp\\lib\\site-packages (from tensorflow>=2.5.1->gpt_2_simple) (1.6.3)\n",
      "Collecting protobuf<3.20,>=3.9.2\n",
      "  Downloading protobuf-3.19.6-cp310-cp310-win_amd64.whl (895 kB)\n",
      "     ------------------------------------ 895.7/895.7 kB 506.0 kB/s eta 0:00:00\n",
      "Requirement already satisfied: idna<4,>=2.5 in c:\\users\\nitha\\anaconda3\\envs\\projetnlp\\lib\\site-packages (from requests->gpt_2_simple) (3.4)\n",
      "Requirement already satisfied: charset-normalizer<3,>=2 in c:\\users\\nitha\\anaconda3\\envs\\projetnlp\\lib\\site-packages (from requests->gpt_2_simple) (2.0.4)\n",
      "Requirement already satisfied: certifi>=2017.4.17 in c:\\users\\nitha\\anaconda3\\envs\\projetnlp\\lib\\site-packages (from requests->gpt_2_simple) (2022.12.7)\n",
      "Requirement already satisfied: urllib3<1.27,>=1.21.1 in c:\\users\\nitha\\anaconda3\\envs\\projetnlp\\lib\\site-packages (from requests->gpt_2_simple) (1.26.13)\n",
      "Requirement already satisfied: colorama in c:\\users\\nitha\\anaconda3\\envs\\projetnlp\\lib\\site-packages (from tqdm->gpt_2_simple) (0.4.6)\n",
      "Requirement already satisfied: wheel<1.0,>=0.23.0 in c:\\users\\nitha\\anaconda3\\envs\\projetnlp\\lib\\site-packages (from astunparse>=1.6.0->tensorflow>=2.5.1->gpt_2_simple) (0.37.1)\n",
      "Requirement already satisfied: tensorboard-data-server<0.7.0,>=0.6.0 in c:\\users\\nitha\\anaconda3\\envs\\projetnlp\\lib\\site-packages (from tensorboard<2.11,>=2.10->tensorflow>=2.5.1->gpt_2_simple) (0.6.1)\n",
      "Requirement already satisfied: google-auth-oauthlib<0.5,>=0.4.1 in c:\\users\\nitha\\anaconda3\\envs\\projetnlp\\lib\\site-packages (from tensorboard<2.11,>=2.10->tensorflow>=2.5.1->gpt_2_simple) (0.4.4)\n",
      "Requirement already satisfied: werkzeug>=1.0.1 in c:\\users\\nitha\\anaconda3\\envs\\projetnlp\\lib\\site-packages (from tensorboard<2.11,>=2.10->tensorflow>=2.5.1->gpt_2_simple) (2.2.2)\n",
      "Requirement already satisfied: tensorboard-plugin-wit>=1.6.0 in c:\\users\\nitha\\anaconda3\\envs\\projetnlp\\lib\\site-packages (from tensorboard<2.11,>=2.10->tensorflow>=2.5.1->gpt_2_simple) (1.8.1)\n",
      "Requirement already satisfied: markdown>=2.6.8 in c:\\users\\nitha\\anaconda3\\envs\\projetnlp\\lib\\site-packages (from tensorboard<2.11,>=2.10->tensorflow>=2.5.1->gpt_2_simple) (3.4.1)\n",
      "Requirement already satisfied: google-auth<3,>=1.6.3 in c:\\users\\nitha\\anaconda3\\envs\\projetnlp\\lib\\site-packages (from tensorboard<2.11,>=2.10->tensorflow>=2.5.1->gpt_2_simple) (2.6.0)\n",
      "Requirement already satisfied: pyasn1-modules>=0.2.1 in c:\\users\\nitha\\anaconda3\\envs\\projetnlp\\lib\\site-packages (from google-auth<3,>=1.6.3->tensorboard<2.11,>=2.10->tensorflow>=2.5.1->gpt_2_simple) (0.2.8)\n",
      "Requirement already satisfied: cachetools<6.0,>=2.0.0 in c:\\users\\nitha\\anaconda3\\envs\\projetnlp\\lib\\site-packages (from google-auth<3,>=1.6.3->tensorboard<2.11,>=2.10->tensorflow>=2.5.1->gpt_2_simple) (4.2.2)\n",
      "Requirement already satisfied: rsa<5,>=3.1.4 in c:\\users\\nitha\\anaconda3\\envs\\projetnlp\\lib\\site-packages (from google-auth<3,>=1.6.3->tensorboard<2.11,>=2.10->tensorflow>=2.5.1->gpt_2_simple) (4.7.2)\n",
      "Requirement already satisfied: requests-oauthlib>=0.7.0 in c:\\users\\nitha\\anaconda3\\envs\\projetnlp\\lib\\site-packages (from google-auth-oauthlib<0.5,>=0.4.1->tensorboard<2.11,>=2.10->tensorflow>=2.5.1->gpt_2_simple) (1.3.0)\n",
      "Requirement already satisfied: MarkupSafe>=2.1.1 in c:\\users\\nitha\\anaconda3\\envs\\projetnlp\\lib\\site-packages (from werkzeug>=1.0.1->tensorboard<2.11,>=2.10->tensorflow>=2.5.1->gpt_2_simple) (2.1.1)\n",
      "Requirement already satisfied: pyasn1<0.5.0,>=0.4.6 in c:\\users\\nitha\\anaconda3\\envs\\projetnlp\\lib\\site-packages (from pyasn1-modules>=0.2.1->google-auth<3,>=1.6.3->tensorboard<2.11,>=2.10->tensorflow>=2.5.1->gpt_2_simple) (0.4.8)\n",
      "Requirement already satisfied: oauthlib>=3.0.0 in c:\\users\\nitha\\anaconda3\\envs\\projetnlp\\lib\\site-packages (from requests-oauthlib>=0.7.0->google-auth-oauthlib<0.5,>=0.4.1->tensorboard<2.11,>=2.10->tensorflow>=2.5.1->gpt_2_simple) (3.2.1)\n",
      "Building wheels for collected packages: gpt_2_simple\n",
      "  Building wheel for gpt_2_simple (setup.py): started\n",
      "  Building wheel for gpt_2_simple (setup.py): finished with status 'done'\n",
      "  Created wheel for gpt_2_simple: filename=gpt_2_simple-0.8.1-py3-none-any.whl size=24560 sha256=71422eb157b9ca4bcef43220395c56a918c94592aa1e51600eb8282a1ba5a40b\n",
      "  Stored in directory: c:\\users\\nitha\\appdata\\local\\pip\\cache\\wheels\\57\\f2\\23\\60d2cc8bfec301528cf870c11e7801f884de8218c13ef5a768\n",
      "Successfully built gpt_2_simple\n",
      "Installing collected packages: toposort, libclang, tqdm, tensorflow-io-gcs-filesystem, protobuf, gpt_2_simple\n",
      "  Attempting uninstall: protobuf\n",
      "    Found existing installation: protobuf 3.20.1\n",
      "    Uninstalling protobuf-3.20.1:\n",
      "      Successfully uninstalled protobuf-3.20.1\n",
      "Successfully installed gpt_2_simple-0.8.1 libclang-14.0.6 protobuf-3.19.6 tensorflow-io-gcs-filesystem-0.29.0 toposort-1.7 tqdm-4.64.1\n"
     ]
    },
    {
     "name": "stderr",
     "output_type": "stream",
     "text": [
      "ERROR: pip's dependency resolver does not currently take into account all the packages that are installed. This behaviour is the source of the following dependency conflicts.\n",
      "google-api-core 2.10.1 requires protobuf<5.0.0dev,>=3.20.1, but you have protobuf 3.19.6 which is incompatible.\n"
     ]
    }
   ],
   "source": [
    "!pip install gpt_2_simple"
   ],
   "metadata": {
    "collapsed": false,
    "pycharm": {
     "name": "#%%\n"
    }
   }
  },
  {
   "cell_type": "code",
   "execution_count": 6,
   "outputs": [
    {
     "name": "stdout",
     "output_type": "stream",
     "text": [
      "0\n",
      "1\n",
      "2\n",
      "3\n",
      "4\n",
      "5\n",
      "6\n",
      "7\n",
      "8\n",
      "9\n"
     ]
    }
   ],
   "source": [
    "for i in range(0,10):\n",
    "    print(i)"
   ],
   "metadata": {
    "collapsed": false,
    "pycharm": {
     "name": "#%%\n"
    }
   }
  },
  {
   "cell_type": "code",
   "execution_count": 18,
   "outputs": [
    {
     "name": "stdout",
     "output_type": "stream",
     "text": [
      "Collecting protobuf==3.19.6\n",
      "  Using cached protobuf-3.19.6-cp310-cp310-win_amd64.whl (895 kB)\n",
      "Installing collected packages: protobuf\n",
      "  Attempting uninstall: protobuf\n",
      "    Found existing installation: protobuf 3.20.0\n",
      "    Uninstalling protobuf-3.20.0:\n",
      "      Successfully uninstalled protobuf-3.20.0\n",
      "Successfully installed protobuf-3.19.6\n"
     ]
    },
    {
     "name": "stderr",
     "output_type": "stream",
     "text": [
      "ERROR: pip's dependency resolver does not currently take into account all the packages that are installed. This behaviour is the source of the following dependency conflicts.\n",
      "google-api-core 2.10.1 requires protobuf<5.0.0dev,>=3.20.1, but you have protobuf 3.19.6 which is incompatible.\n"
     ]
    }
   ],
   "source": [
    "!pip install protobuf==3.19.6"
   ],
   "metadata": {
    "collapsed": false,
    "pycharm": {
     "name": "#%%\n"
    }
   }
  },
  {
   "cell_type": "code",
   "execution_count": 19,
   "outputs": [
    {
     "name": "stderr",
     "output_type": "stream",
     "text": [
      "ERROR: Could not find a version that satisfies the requirement termios (from versions: none)\n",
      "ERROR: No matching distribution found for termios\n"
     ]
    }
   ],
   "source": [
    "!pip install termios"
   ],
   "metadata": {
    "collapsed": false,
    "pycharm": {
     "name": "#%%\n"
    }
   }
  },
  {
   "cell_type": "code",
   "execution_count": null,
   "outputs": [],
   "source": [],
   "metadata": {
    "collapsed": false,
    "pycharm": {
     "name": "#%%\n"
    }
   }
  }
 ],
 "metadata": {
  "kernelspec": {
   "display_name": "Python 3",
   "language": "python",
   "name": "python3"
  },
  "language_info": {
   "codemirror_mode": {
    "name": "ipython",
    "version": 2
   },
   "file_extension": ".py",
   "mimetype": "text/x-python",
   "name": "python",
   "nbconvert_exporter": "python",
   "pygments_lexer": "ipython2",
   "version": "2.7.6"
  }
 },
 "nbformat": 4,
 "nbformat_minor": 0
}